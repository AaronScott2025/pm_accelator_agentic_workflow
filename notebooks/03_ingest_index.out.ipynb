{
 "cells": [
  {
   "cell_type": "markdown",
   "id": "ae2c82bb",
   "metadata": {},
   "source": [
    "# Ingest and Index Local Data into Qdrant\n",
    "\n",
    "Uses timestamp chunking for VTT and Cohere embeddings."
   ]
  },
  {
   "cell_type": "code",
   "execution_count": 1,
   "id": "820d79ef",
   "metadata": {
    "execution": {
     "iopub.execute_input": "2025-08-08T00:19:50.701013Z",
     "iopub.status.busy": "2025-08-08T00:19:50.700698Z",
     "iopub.status.idle": "2025-08-08T00:19:51.529937Z",
     "shell.execute_reply": "2025-08-08T00:19:51.529663Z"
    }
   },
   "outputs": [
    {
     "name": "stdout",
     "output_type": "stream",
     "text": [
      "No data found to index in data/. Skipping Qdrant indexing.\n",
      "Indexed collection created.\n"
     ]
    }
   ],
   "source": [
    "from ai_interviewer_pm.ingestion.pipeline import index_data\n",
    "store = index_data(chunker_name='timestamp', provider='openai')\n",
    "print('Indexed collection created.')\n"
   ]
  }
 ],
 "metadata": {
  "kernelspec": {
   "display_name": "Python 3",
   "language": "python",
   "name": "python3"
  },
  "language_info": {
   "codemirror_mode": {
    "name": "ipython",
    "version": 3
   },
   "file_extension": ".py",
   "mimetype": "text/x-python",
   "name": "python",
   "nbconvert_exporter": "python",
   "pygments_lexer": "ipython3",
   "version": "3.11.7"
  }
 },
 "nbformat": 4,
 "nbformat_minor": 5
}
